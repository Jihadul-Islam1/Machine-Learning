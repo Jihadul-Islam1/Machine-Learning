{
 "cells": [
  {
   "cell_type": "code",
   "execution_count": 5,
   "id": "e99088eb",
   "metadata": {},
   "outputs": [],
   "source": [
    "import yfinance as yf\n",
    "import numpy as np\n",
    "import pandas as pd\n",
    "import matplotlib.pyplot as plt"
   ]
  },
  {
   "cell_type": "code",
   "execution_count": null,
   "id": "b03fb402",
   "metadata": {},
   "outputs": [],
   "source": []
  },
  {
   "cell_type": "code",
   "execution_count": 17,
   "id": "02be469a",
   "metadata": {},
   "outputs": [
    {
     "name": "stderr",
     "output_type": "stream",
     "text": [
      "C:\\Users\\jihad\\AppData\\Local\\Temp\\ipykernel_13180\\1769883367.py:3: FutureWarning: YF.download() has changed argument auto_adjust default to True\n",
      "  data = yf.download(stocks, start=\"2020-01-01\", end=\"2025-08-02\")['Close']\n",
      "[*********************100%***********************]  5 of 5 completed"
     ]
    },
    {
     "name": "stdout",
     "output_type": "stream",
     "text": [
      "Ticker            AAPL        AMZN       GOOGL        MSFT        TSLA\n",
      "Date                                                                  \n",
      "2020-01-02   72.620857   94.900497   68.026016  153.042313   28.684000\n",
      "2020-01-03   71.914795   93.748497   67.670158  151.136673   29.534000\n",
      "2020-01-06   72.487877   95.143997   69.473846  151.527283   30.102667\n",
      "2020-01-07   72.146957   95.343002   69.339645  150.145752   31.270666\n",
      "2020-01-08   73.307518   94.598503   69.833183  152.537292   32.809334\n",
      "...                ...         ...         ...         ...         ...\n",
      "2025-07-28  214.050003  232.789993  192.580002  512.500000  325.589996\n",
      "2025-07-29  211.270004  231.009995  195.750000  512.570007  321.200012\n",
      "2025-07-30  209.050003  230.190002  196.529999  513.239990  319.040009\n",
      "2025-07-31  207.570007  234.110001  191.899994  533.500000  308.269989\n",
      "2025-08-01  202.380005  214.750000  189.130005  524.109985  302.630005\n",
      "\n",
      "[1403 rows x 5 columns]\n"
     ]
    },
    {
     "name": "stderr",
     "output_type": "stream",
     "text": [
      "\n"
     ]
    }
   ],
   "source": [
    "# স্টক সিম্বল ও সময়সীমা নির্ধারণ করুন\n",
    "stocks = ['AAPL', 'GOOGL', 'MSFT', 'AMZN', 'TSLA']\n",
    "data = yf.download(stocks, start=\"2020-01-01\", end=\"2025-08-02\")['Close']\n",
    "\n",
    "print(data)\n",
    "\n",
    "\n",
    "\n"
   ]
  },
  {
   "cell_type": "code",
   "execution_count": 20,
   "id": "6351d42c",
   "metadata": {},
   "outputs": [
    {
     "name": "stdout",
     "output_type": "stream",
     "text": [
      "Ticker          AAPL      AMZN     GOOGL      MSFT      TSLA\n",
      "Date                                                        \n",
      "2020-01-03 -0.009723 -0.012139 -0.005231 -0.012452  0.029633\n",
      "2020-01-06  0.007969  0.014886  0.026654  0.002584  0.019255\n",
      "2020-01-07 -0.004703  0.002092 -0.001932 -0.009117  0.038801\n",
      "2020-01-08  0.016086 -0.007809  0.007118  0.015928  0.049205\n",
      "2020-01-09  0.021241  0.004799  0.010498  0.012493 -0.021945\n",
      "...              ...       ...       ...       ...       ...\n",
      "2025-07-28  0.000795  0.005833 -0.003106 -0.002355  0.030152\n",
      "2025-07-29 -0.012988 -0.007646  0.016461  0.000137 -0.013483\n",
      "2025-07-30 -0.010508 -0.003550  0.003985  0.001307 -0.006725\n",
      "2025-07-31 -0.007080  0.017029 -0.023559  0.039475 -0.033758\n",
      "2025-08-01 -0.025004 -0.082696 -0.014435 -0.017601 -0.018296\n",
      "\n",
      "[1402 rows x 5 columns]\n"
     ]
    }
   ],
   "source": [
    "# দৈনিক রিটার্ন (%) বের করুন\n",
    "returns = data.pct_change().dropna()\n",
    "print(returns)  # প্রথম ৫ সারি দেখুনk\n"
   ]
  },
  {
   "cell_type": "code",
   "execution_count": null,
   "id": "339173ea",
   "metadata": {},
   "outputs": [
    {
     "name": "stdout",
     "output_type": "stream",
     "text": [
      "কভ্যারিয়েন্স ম্যাট্রিক্স:\n",
      " Ticker      AAPL      AMZN     GOOGL      MSFT      TSLA\n",
      "Ticker                                                  \n",
      "AAPL    0.105442  0.070593  0.067487  0.071582  0.109927\n",
      "AMZN    0.070593  0.130806  0.076984  0.074759  0.110736\n",
      "GOOGL   0.067487  0.076984  0.106927  0.072022  0.093803\n",
      "MSFT    0.071582  0.074759  0.072022  0.091869  0.093427\n",
      "TSLA    0.109927  0.110736  0.093803  0.093427  0.463011\n"
     ]
    }
   ],
   "source": [
    "# বার্ষিক কভ্যারিয়েন্স ম্যাট্রিক্স (Annualized)\n",
    "cov_matrix = returns.cov() * 252  # 252 ট্রেডিং দিন\n",
    "print(\"কভ্যারিয়েন্স ম্যাট্রিক্স:\\n\", cov_matrix)"
   ]
  },
  {
   "cell_type": "code",
   "execution_count": 23,
   "id": "ac2f4f27",
   "metadata": {},
   "outputs": [
    {
     "name": "stdout",
     "output_type": "stream",
     "text": [
      "অপ্টিমাল ওজন: [ 2.28571429  0.57142857 -0.57142857 -1.14285714 -0.14285714]\n"
     ]
    }
   ],
   "source": [
    "def newton_method(cov_matrix, max_iter=50, tol=1e-6):\n",
    "    n = cov_matrix.shape[0]  # স্টকের সংখ্যা\n",
    "    w = np.ones(n) / n  # প্রাথমিক ওজন (সমান)\n",
    "    \n",
    "    for i in range(max_iter):\n",
    "        # গ্রেডিয়েন্ট (∇f): 2 * Σ * w\n",
    "        gradient = 2 * cov_matrix @ w\n",
    "        \n",
    "        # হেসিয়ান ম্যাট্রিক্স (H): 2 * Σ\n",
    "        hessian = 2 * cov_matrix\n",
    "        \n",
    "        # নিউটনের আপডেট: Δw = -H⁻¹ * ∇f\n",
    "        delta_w = np.linalg.solve(hessian, -gradient)\n",
    "        \n",
    "        # নতুন ওজন: w_new = w + Δw\n",
    "        w_new = w + delta_w\n",
    "        \n",
    "        # কনভার্জেন্স চেক\n",
    "        if np.linalg.norm(w_new - w) < tol:\n",
    "            break\n",
    "            \n",
    "        w = w_new\n",
    "    \n",
    "    # ওজন নরমালাইজ (যোগফল=১)\n",
    "    return w_new / np.sum(w_new)\n",
    "\n",
    "# অপ্টিমাল ওজন বের করুন\n",
    "optimal_weights = newton_method(cov_matrix.values)  # cov_matrix.values (numpy array)\n",
    "print(\"অপ্টিমাল ওজন:\", optimal_weights)"
   ]
  },
  {
   "cell_type": "code",
   "execution_count": 24,
   "id": "1381573e",
   "metadata": {},
   "outputs": [
    {
     "name": "stderr",
     "output_type": "stream",
     "text": [
      "c:\\Users\\jihad\\anaconda3\\Lib\\site-packages\\IPython\\core\\pylabtools.py:170: UserWarning: Glyph 2451 (\\N{BENGALI LETTER O}) missing from font(s) DejaVu Sans.\n",
      "  fig.canvas.print_figure(bytes_io, **kw)\n",
      "c:\\Users\\jihad\\anaconda3\\Lib\\site-packages\\IPython\\core\\pylabtools.py:170: UserWarning: Matplotlib currently does not support Bengali natively.\n",
      "  fig.canvas.print_figure(bytes_io, **kw)\n",
      "c:\\Users\\jihad\\anaconda3\\Lib\\site-packages\\IPython\\core\\pylabtools.py:170: UserWarning: Glyph 2460 (\\N{BENGALI LETTER JA}) missing from font(s) DejaVu Sans.\n",
      "  fig.canvas.print_figure(bytes_io, **kw)\n",
      "c:\\Users\\jihad\\anaconda3\\Lib\\site-packages\\IPython\\core\\pylabtools.py:170: UserWarning: Glyph 2472 (\\N{BENGALI LETTER NA}) missing from font(s) DejaVu Sans.\n",
      "  fig.canvas.print_figure(bytes_io, **kw)\n",
      "c:\\Users\\jihad\\anaconda3\\Lib\\site-packages\\IPython\\core\\pylabtools.py:170: UserWarning: Glyph 2437 (\\N{BENGALI LETTER A}) missing from font(s) DejaVu Sans.\n",
      "  fig.canvas.print_figure(bytes_io, **kw)\n",
      "c:\\Users\\jihad\\anaconda3\\Lib\\site-packages\\IPython\\core\\pylabtools.py:170: UserWarning: Glyph 2474 (\\N{BENGALI LETTER PA}) missing from font(s) DejaVu Sans.\n",
      "  fig.canvas.print_figure(bytes_io, **kw)\n",
      "c:\\Users\\jihad\\anaconda3\\Lib\\site-packages\\IPython\\core\\pylabtools.py:170: UserWarning: Glyph 2509 (\\N{BENGALI SIGN VIRAMA}) missing from font(s) DejaVu Sans.\n",
      "  fig.canvas.print_figure(bytes_io, **kw)\n",
      "c:\\Users\\jihad\\anaconda3\\Lib\\site-packages\\IPython\\core\\pylabtools.py:170: UserWarning: Glyph 2463 (\\N{BENGALI LETTER TTA}) missing from font(s) DejaVu Sans.\n",
      "  fig.canvas.print_figure(bytes_io, **kw)\n",
      "c:\\Users\\jihad\\anaconda3\\Lib\\site-packages\\IPython\\core\\pylabtools.py:170: UserWarning: Glyph 2495 (\\N{BENGALI VOWEL SIGN I}) missing from font(s) DejaVu Sans.\n",
      "  fig.canvas.print_figure(bytes_io, **kw)\n",
      "c:\\Users\\jihad\\anaconda3\\Lib\\site-packages\\IPython\\core\\pylabtools.py:170: UserWarning: Glyph 2478 (\\N{BENGALI LETTER MA}) missing from font(s) DejaVu Sans.\n",
      "  fig.canvas.print_figure(bytes_io, **kw)\n",
      "c:\\Users\\jihad\\anaconda3\\Lib\\site-packages\\IPython\\core\\pylabtools.py:170: UserWarning: Glyph 2494 (\\N{BENGALI VOWEL SIGN AA}) missing from font(s) DejaVu Sans.\n",
      "  fig.canvas.print_figure(bytes_io, **kw)\n",
      "c:\\Users\\jihad\\anaconda3\\Lib\\site-packages\\IPython\\core\\pylabtools.py:170: UserWarning: Glyph 2482 (\\N{BENGALI LETTER LA}) missing from font(s) DejaVu Sans.\n",
      "  fig.canvas.print_figure(bytes_io, **kw)\n",
      "c:\\Users\\jihad\\anaconda3\\Lib\\site-packages\\IPython\\core\\pylabtools.py:170: UserWarning: Glyph 2507 (\\N{BENGALI VOWEL SIGN O}) missing from font(s) DejaVu Sans.\n",
      "  fig.canvas.print_figure(bytes_io, **kw)\n",
      "c:\\Users\\jihad\\anaconda3\\Lib\\site-packages\\IPython\\core\\pylabtools.py:170: UserWarning: Glyph 2480 (\\N{BENGALI LETTER RA}) missing from font(s) DejaVu Sans.\n",
      "  fig.canvas.print_figure(bytes_io, **kw)\n",
      "c:\\Users\\jihad\\anaconda3\\Lib\\site-packages\\IPython\\core\\pylabtools.py:170: UserWarning: Glyph 2475 (\\N{BENGALI LETTER PHA}) missing from font(s) DejaVu Sans.\n",
      "  fig.canvas.print_figure(bytes_io, **kw)\n",
      "c:\\Users\\jihad\\anaconda3\\Lib\\site-packages\\IPython\\core\\pylabtools.py:170: UserWarning: Glyph 2488 (\\N{BENGALI LETTER SA}) missing from font(s) DejaVu Sans.\n",
      "  fig.canvas.print_figure(bytes_io, **kw)\n",
      "c:\\Users\\jihad\\anaconda3\\Lib\\site-packages\\IPython\\core\\pylabtools.py:170: UserWarning: Glyph 2453 (\\N{BENGALI LETTER KA}) missing from font(s) DejaVu Sans.\n",
      "  fig.canvas.print_figure(bytes_io, **kw)\n"
     ]
    },
    {
     "data": {
      "image/png": "[encoded data removed]",
      "text/plain": [
       "<Figure size 1000x500 with 1 Axes>"
      ]
     },
     "metadata": {},
     "output_type": "display_data"
    },
    {
     "ename": "NameError",
     "evalue": "name 'sns' is not defined",
     "output_type": "error",
     "traceback": [
      "\u001b[1;31m---------------------------------------------------------------------------\u001b[0m",
      "\u001b[1;31mNameError\u001b[0m                                 Traceback (most recent call last)",
      "Cell \u001b[1;32mIn[24], line 11\u001b[0m\n\u001b[0;32m      9\u001b[0m \u001b[38;5;66;03m# কভ্যারিয়েন্স হিটম্যাপ\u001b[39;00m\n\u001b[0;32m     10\u001b[0m plt\u001b[38;5;241m.\u001b[39mfigure(figsize\u001b[38;5;241m=\u001b[39m(\u001b[38;5;241m8\u001b[39m, \u001b[38;5;241m6\u001b[39m))\n\u001b[1;32m---> 11\u001b[0m sns\u001b[38;5;241m.\u001b[39mheatmap(cov_matrix, annot\u001b[38;5;241m=\u001b[39m\u001b[38;5;28;01mTrue\u001b[39;00m, cmap\u001b[38;5;241m=\u001b[39m\u001b[38;5;124m'\u001b[39m\u001b[38;5;124mcoolwarm\u001b[39m\u001b[38;5;124m'\u001b[39m, fmt\u001b[38;5;241m=\u001b[39m\u001b[38;5;124m\"\u001b[39m\u001b[38;5;124m.4f\u001b[39m\u001b[38;5;124m\"\u001b[39m)\n\u001b[0;32m     12\u001b[0m plt\u001b[38;5;241m.\u001b[39mtitle(\u001b[38;5;124m'\u001b[39m\u001b[38;5;124mস্টকগুলোর কভ্যারিয়েন্স ম্যাট্রিক্স\u001b[39m\u001b[38;5;124m'\u001b[39m)\n\u001b[0;32m     13\u001b[0m plt\u001b[38;5;241m.\u001b[39mshow()\n",
      "\u001b[1;31mNameError\u001b[0m: name 'sns' is not defined"
     ]
    },
    {
     "data": {
      "text/plain": [
       "<Figure size 800x600 with 0 Axes>"
      ]
     },
     "metadata": {},
     "output_type": "display_data"
    }
   ],
   "source": [
    "# অপ্টিমাল ওজনের বার চার্ট\n",
    "plt.figure(figsize=(10, 5))\n",
    "plt.bar(stocks, optimal_weights, color=['blue', 'green', 'red'])\n",
    "plt.title('অপ্টিমাল পোর্টফোলিও ওজন')\n",
    "plt.xlabel('স্টক')\n",
    "plt.ylabel('ওজন (%)')\n",
    "plt.show()\n",
    "\n",
    "# কভ্যারিয়েন্স হিটম্যাপ\n",
    "plt.figure(figsize=(8, 6))\n",
    "sns.heatmap(cov_matrix, annot=True, cmap='coolwarm', fmt=\".4f\")\n",
    "plt.title('স্টকগুলোর কভ্যারিয়েন্স ম্যাট্রিক্স')\n",
    "plt.show()"
   ]
  },
  {
   "cell_type": "code",
   "execution_count": 25,
   "id": "5240e6f2",
   "metadata": {},
   "outputs": [
    {
     "name": "stdout",
     "output_type": "stream",
     "text": [
      "নিউটনের পোর্টফোলিওর ঝুঁকি: 0.294192\n",
      "সমান ওজনের পোর্টফোলিওর ঝুঁকি: 0.103228\n"
     ]
    }
   ],
   "source": [
    "# সমান ওজন (Equal Weight)\n",
    "equal_weights = np.ones(len(stocks)) / len(stocks)\n",
    "\n",
    "# পোর্টফোলিও ভ্যারিয়েন্স (ঝুঁকি)\n",
    "def portfolio_variance(weights, cov_matrix):\n",
    "    return weights @ cov_matrix @ weights  # wᵀ Σ w\n",
    "\n",
    "# ঝুঁকি তুলনা\n",
    "risk_newton = portfolio_variance(optimal_weights, cov_matrix)\n",
    "risk_equal = portfolio_variance(equal_weights, cov_matrix)\n",
    "\n",
    "print(f\"নিউটনের পোর্টফোলিওর ঝুঁকি: {risk_newton:.6f}\")\n",
    "print(f\"সমান ওজনের পোর্টফোলিওর ঝুঁকি: {risk_equal:.6f}\")"
   ]
  },
  {
   "cell_type": "code",
   "execution_count": 31,
   "id": "2953d24f",
   "metadata": {},
   "outputs": [
    {
     "name": "stderr",
     "output_type": "stream",
     "text": [
      "[*********************100%***********************]  5 of 5 completed"
     ]
    },
    {
     "name": "stdout",
     "output_type": "stream",
     "text": [
      "প্রথম ৫ সারি:\n",
      "Ticker           AAPL       AMZN      GOOGL        MSFT       TSLA\n",
      "Date                                                              \n",
      "2020-01-02  72.620857  94.900497  68.026016  153.042313  28.684000\n",
      "2020-01-03  71.914795  93.748497  67.670158  151.136673  29.534000\n",
      "2020-01-06  72.487877  95.143997  69.473846  151.527283  30.102667\n",
      "2020-01-07  72.146957  95.343002  69.339645  150.145752  31.270666\n",
      "2020-01-08  73.307518  94.598503  69.833183  152.537292  32.809334\n",
      "\n",
      "শেষ ৫ সারি:\n",
      "Ticker            AAPL        AMZN       GOOGL        MSFT        TSLA\n",
      "Date                                                                  \n",
      "2025-07-28  214.050003  232.789993  192.580002  512.500000  325.589996\n",
      "2025-07-29  211.270004  231.009995  195.750000  512.570007  321.200012\n",
      "2025-07-30  209.050003  230.190002  196.529999  513.239990  319.040009\n",
      "2025-07-31  207.570007  234.110001  191.899994  533.500000  308.269989\n",
      "2025-08-01  202.380005  214.750000  189.130005  524.109985  302.630005\n",
      "\n",
      "ডেটার সংক্ষিপ্ত তথ্য:\n",
      "<class 'pandas.core.frame.DataFrame'>\n",
      "DatetimeIndex: 1403 entries, 2020-01-02 to 2025-08-01\n",
      "Data columns (total 5 columns):\n",
      " #   Column  Non-Null Count  Dtype  \n",
      "---  ------  --------------  -----  \n",
      " 0   AAPL    1403 non-null   float64\n",
      " 1   AMZN    1403 non-null   float64\n",
      " 2   GOOGL   1403 non-null   float64\n",
      " 3   MSFT    1403 non-null   float64\n",
      " 4   TSLA    1403 non-null   float64\n",
      "dtypes: float64(5)\n",
      "memory usage: 65.8 KB\n",
      "None\n"
     ]
    },
    {
     "name": "stderr",
     "output_type": "stream",
     "text": [
      "\n"
     ]
    }
   ],
   "source": [
    "import yfinance as yf\n",
    "import pandas as pd\n",
    "import numpy as np\n",
    "import matplotlib.pyplot as plt\n",
    "\n",
    "# স্টক লিস্ট (5টি জনপ্রিয় স্টক)\n",
    "stocks = ['AAPL', 'GOOGL', 'MSFT', 'AMZN', 'TSLA']\n",
    "\n",
    "# সময়সীমা: 2020-01-01 থেকে আজ পর্যন্ত\n",
    "start_date = \"2020-01-01\"\n",
    "end_date = pd.Timestamp.today().strftime('%Y-%m-%d')  # স্বয়ংক্রিয়ভাবে আজকের তারিখ\n",
    "\n",
    "data = yf.download(stocks, start=start_date, end=end_date, auto_adjust=False)['Adj Close']\n",
    "# ডেটা প্রিন্ট করে দেখুন\n",
    "print(\"প্রথম ৫ সারি:\")\n",
    "print(data.head())\n",
    "\n",
    "print(\"\\nশেষ ৫ সারি:\")\n",
    "print(data.tail())\n",
    "\n",
    "# ডেটার তথ্য দেখুন\n",
    "print(\"\\nডেটার সংক্ষিপ্ত তথ্য:\")\n",
    "print(data.info())"
   ]
  },
  {
   "cell_type": "code",
   "execution_count": 32,
   "id": "46e7e615",
   "metadata": {},
   "outputs": [
    {
     "name": "stderr",
     "output_type": "stream",
     "text": [
      "[*********************100%***********************]  5 of 5 completed"
     ]
    },
    {
     "name": "stdout",
     "output_type": "stream",
     "text": [
      "Optimal weights: [ 0.3076  0.1194  0.2479  0.3848 -0.0598]\n",
      "Portfolio Std Dev (Risk): 0.017623\n"
     ]
    },
    {
     "name": "stderr",
     "output_type": "stream",
     "text": [
      "\n"
     ]
    }
   ],
   "source": [
    "import yfinance as yf\n",
    "import pandas as pd\n",
    "import numpy as np\n",
    "\n",
    "# ১) ডেটা লোডিং\n",
    "stocks = ['AAPL','GOOGL','MSFT','AMZN','TSLA']\n",
    "start_date = \"2020-01-01\"\n",
    "end_date = pd.Timestamp.today().strftime('%Y-%m-%d')\n",
    "prices = yf.download(stocks, start=start_date, end=end_date, auto_adjust=False)['Adj Close']\n",
    "returns = prices.pct_change().dropna()\n",
    "mu = returns.mean().values\n",
    "Sigma = returns.cov().values\n",
    "\n",
    "# ২) KKT শর্ত ও নিউটন–রাফসন\n",
    "n = len(mu)\n",
    "ones = np.ones(n)\n",
    "\n",
    "def F(z):\n",
    "    w, gamma = z[:n], z[n]\n",
    "    eq1 = 2*Sigma.dot(w) + gamma*ones\n",
    "    eq2 = ones.dot(w) - 1.0\n",
    "    return np.concatenate([eq1, [eq2]])\n",
    "\n",
    "def J(z):\n",
    "    top = np.hstack([2*Sigma, ones.reshape(-1,1)])\n",
    "    bottom = np.hstack([ones.reshape(1,-1), np.array([[0.0]])])\n",
    "    return np.vstack([top, bottom])\n",
    "\n",
    "# ইনিশিয়াল\n",
    "z = np.concatenate([np.ones(n)/n, [0.0]])\n",
    "tol, max_iter = 1e-8, 100\n",
    "\n",
    "for i in range(max_iter):\n",
    "    delta = np.linalg.solve(J(z), F(z))\n",
    "    z = z - delta\n",
    "    if np.linalg.norm(delta) < tol:\n",
    "        break\n",
    "\n",
    "w_opt = z[:n]\n",
    "\n",
    "# ৩) ফলাফল\n",
    "port_var = w_opt.T.dot(Sigma).dot(w_opt)\n",
    "port_std = np.sqrt(port_var)\n",
    "\n",
    "print(\"Optimal weights:\", np.round(w_opt,4))\n",
    "print(f\"Portfolio Std Dev (Risk): {port_std:.6f}\")\n"
   ]
  },
  {
   "cell_type": "code",
   "execution_count": 33,
   "id": "28992c06",
   "metadata": {},
   "outputs": [
    {
     "name": "stderr",
     "output_type": "stream",
     "text": [
      "[*********************100%***********************]  5 of 5 completed\n"
     ]
    },
    {
     "name": "stdout",
     "output_type": "stream",
     "text": [
      "Converged in 2 iterations.\n"
     ]
    },
    {
     "data": {
      "image/png": "[encoded data removed]",
      "text/plain": [
       "<Figure size 640x480 with 1 Axes>"
      ]
     },
     "metadata": {},
     "output_type": "display_data"
    },
    {
     "data": {
      "image/png": "[encoded data removed]",
      "text/plain": [
       "<Figure size 640x480 with 1 Axes>"
      ]
     },
     "metadata": {},
     "output_type": "display_data"
    }
   ],
   "source": [
    "import yfinance as yf\n",
    "import pandas as pd\n",
    "import numpy as np\n",
    "import matplotlib.pyplot as plt\n",
    "\n",
    "# ১) ডেটা লোডিং\n",
    "stocks = ['AAPL', 'GOOGL', 'MSFT', 'AMZN', 'TSLA']\n",
    "start_date = \"2020-01-01\"\n",
    "end_date = pd.Timestamp.today().strftime('%Y-%m-%d')\n",
    "prices = yf.download(stocks, start=start_date, end=end_date, auto_adjust=False)['Adj Close']\n",
    "returns = prices.pct_change().dropna()\n",
    "mu = returns.mean().values\n",
    "Sigma = returns.cov().values\n",
    "\n",
    "# ২) নিউটন–রাফসন ইটারেশন, কনভার্জেন্স ট্র্যাকিং\n",
    "n = len(mu)\n",
    "ones = np.ones(n)\n",
    "\n",
    "def F(z):\n",
    "    w, gamma = z[:n], z[n]\n",
    "    eq1 = 2 * Sigma.dot(w) + gamma * ones\n",
    "    eq2 = ones.dot(w) - 1.0\n",
    "    return np.concatenate([eq1, [eq2]])\n",
    "\n",
    "def J(z):\n",
    "    top = np.hstack([2 * Sigma, ones.reshape(-1,1)])\n",
    "    bottom = np.hstack([ones.reshape(1,-1), np.array([[0.0]])])\n",
    "    return np.vstack([top, bottom])\n",
    "\n",
    "z = np.concatenate([np.ones(n)/n, [0.0]])\n",
    "tol, max_iter = 1e-8, 100\n",
    "convergence = []\n",
    "\n",
    "for i in range(max_iter):\n",
    "    delta = np.linalg.solve(J(z), F(z))\n",
    "    norm_delta = np.linalg.norm(delta)\n",
    "    convergence.append(norm_delta)\n",
    "    z = z - delta\n",
    "    if norm_delta < tol:\n",
    "        print(f\"Converged in {i+1} iterations.\")\n",
    "        break\n",
    "\n",
    "w_opt = z[:n]\n",
    "\n",
    "# ৩) গ্রাফিক্যাল প্লটিং\n",
    "\n",
    "# Plot 1: Convergence of Newton's Method\n",
    "plt.figure()\n",
    "plt.plot(convergence, marker='o')\n",
    "plt.title(\"Convergence of Newton's Method\")\n",
    "plt.xlabel(\"Iteration\")\n",
    "plt.ylabel(\"Norm of Update (Δ)\")\n",
    "plt.grid(True)\n",
    "plt.show()\n",
    "\n",
    "# Plot 2: Optimal Portfolio Weights\n",
    "plt.figure()\n",
    "plt.bar(stocks, w_opt)\n",
    "plt.title(\"Optimal Portfolio Weights\")\n",
    "plt.xlabel(\"Stock\")\n",
    "plt.ylabel(\"Weight\")\n",
    "plt.tight_layout()\n",
    "plt.show()\n"
   ]
  },
  {
   "cell_type": "code",
   "execution_count": 34,
   "id": "4f6f1b3c",
   "metadata": {},
   "outputs": [
    {
     "name": "stderr",
     "output_type": "stream",
     "text": [
      "[*********************100%***********************]  5 of 5 completed"
     ]
    },
    {
     "name": "stdout",
     "output_type": "stream",
     "text": [
      "Expected daily returns:\n",
      " [0.00093893 0.0008408  0.00094103 0.00105974 0.00259225]\n",
      "Covariance matrix:\n",
      " [[0.00041677 0.00027902 0.00026675 0.00028293 0.00043449]\n",
      " [0.00027902 0.00051702 0.00030429 0.00029549 0.00043769]\n",
      " [0.00026675 0.00030429 0.00042264 0.00028467 0.00037076]\n",
      " [0.00028293 0.00029549 0.00028467 0.00036312 0.00036928]\n",
      " [0.00043449 0.00043769 0.00037076 0.00036928 0.00183008]]\n"
     ]
    },
    {
     "name": "stderr",
     "output_type": "stream",
     "text": [
      "\n"
     ]
    }
   ],
   "source": [
    "import yfinance as yf\n",
    "import pandas as pd\n",
    "import numpy as np\n",
    "\n",
    "# ৫টি স্টক সিলেকশন\n",
    "stocks = ['AAPL', 'GOOGL', 'MSFT', 'AMZN', 'TSLA']\n",
    "start_date = \"2020-01-01\"\n",
    "end_date = pd.Timestamp.today().strftime('%Y-%m-%d')\n",
    "\n",
    "# Adjusted Close প্রাইস লোড\n",
    "prices = yf.download(stocks, start=start_date, end=end_date, auto_adjust=False)['Adj Close']\n",
    "\n",
    "# দৈনিক রিটার্ন হিসাব: (P_t / P_{t-1} - 1)\n",
    "returns = prices.pct_change().dropna()\n",
    "\n",
    "# প্রত্যাশিত দৈনিক রিটার্ন (mean) ও covariance matrix\n",
    "mu = returns.mean().values            # shape = (5,)\n",
    "Sigma = returns.cov().values          # shape = (5,5)\n",
    "\n",
    "print(\"Expected daily returns:\\n\", mu)\n",
    "print(\"Covariance matrix:\\n\", Sigma)\n"
   ]
  },
  {
   "cell_type": "code",
   "execution_count": 36,
   "id": "1dd6d4f2",
   "metadata": {},
   "outputs": [],
   "source": [
    "# dimension\n",
    "n = len(mu)\n",
    "ones = np.ones(n)\n",
    "\n",
    "def F(z):\n",
    "    \"\"\"\n",
    "    F: ℝ^{n+1} → ℝ^{n+1}, যেখানে z = [w (n,), γ (scalar)]\n",
    "    \"\"\"\n",
    "    w = z[:n]\n",
    "    gamma = z[n]\n",
    "    # শর্তসমূহ\n",
    "    eq1 = 2 * Sigma.dot(w) + gamma * ones        # shape = (n,)\n",
    "    eq2 = ones.dot(w) - 1.0                      # scalar\n",
    "    return np.concatenate([eq1, [eq2]])\n",
    "\n",
    "def J(z):\n",
    "    \"\"\"\n",
    "    Jacobian matrix J of F, shape = (n+1, n+1)\n",
    "    \"\"\"\n",
    "    # উপ-ব্লক\n",
    "    top_left = 2 * Sigma                       # shape = (n,n)\n",
    "    top_right = ones.reshape(-1,1)             # shape = (n,1)\n",
    "    bottom_left = ones.reshape(1,-1)           # shape = (1,n)\n",
    "    bottom_right = np.array([[0.0]])           # shape = (1,1)\n",
    "    # ব্লকগুলি মার্জ\n",
    "    top = np.hstack([top_left, top_right])\n",
    "    bottom = np.hstack([bottom_left, bottom_right])\n",
    "    return np.vstack([top, bottom])\n"
   ]
  },
  {
   "cell_type": "code",
   "execution_count": 37,
   "id": "3001edfd",
   "metadata": {},
   "outputs": [
    {
     "name": "stdout",
     "output_type": "stream",
     "text": [
      "Converged in 2 iterations.\n",
      "Optimal weights: [ 0.30759672  0.11941797  0.24793251  0.38482574 -0.05977294]\n",
      "Sum of weights: 1.0\n"
     ]
    }
   ],
   "source": [
    "# ইনিশিয়াল গেস\n",
    "w0 = np.ones(n) / n   # শুরুতে সব ওয়েট সমান\n",
    "gamma0 = 0.0\n",
    "z = np.concatenate([w0, [gamma0]])\n",
    "\n",
    "tol = 1e-8\n",
    "max_iter = 100\n",
    "\n",
    "for i in range(max_iter):\n",
    "    Fz = F(z)\n",
    "    Jz = J(z)\n",
    "    # নিউটন আপডেট: z_new = z - J^{-1} F(z)\n",
    "    delta = np.linalg.solve(Jz, Fz)\n",
    "    z = z - delta\n",
    "    if np.linalg.norm(delta) < tol:\n",
    "        print(f\"Converged in {i+1} iterations.\")\n",
    "        break\n",
    "\n",
    "# ফলাফল\n",
    "w_opt = z[:n]\n",
    "gamma_opt = z[n]\n",
    "print(\"Optimal weights:\", w_opt)\n",
    "print(\"Sum of weights:\", w_opt.sum())\n"
   ]
  },
  {
   "cell_type": "code",
   "execution_count": 38,
   "id": "ce109fe9",
   "metadata": {},
   "outputs": [
    {
     "name": "stdout",
     "output_type": "stream",
     "text": [
      "Optimized Portfolio Variance: 0.000311\n",
      "Optimized Portfolio Risk (Std Dev): 0.017623\n"
     ]
    }
   ],
   "source": [
    "# অপ্টিমাল পোর্টফোলিও রিস্ক (variance এবং std)\n",
    "port_variance = w_opt.T.dot(Sigma).dot(w_opt)\n",
    "port_std = np.sqrt(port_variance)\n",
    "\n",
    "print(f\"Optimized Portfolio Variance: {port_variance:.6f}\")\n",
    "print(f\"Optimized Portfolio Risk (Std Dev): {port_std:.6f}\")\n"
   ]
  },
  {
   "cell_type": "code",
   "execution_count": 39,
   "id": "cd28d1ca",
   "metadata": {},
   "outputs": [
    {
     "name": "stderr",
     "output_type": "stream",
     "text": [
      "C:\\Users\\jihad\\AppData\\Local\\Temp\\ipykernel_13180\\1265761654.py:12: FutureWarning: YF.download() has changed argument auto_adjust default to True\n",
      "  data = yf.download(stocks, start=start_date, end=end_date)['Close']\n",
      "[*********************100%***********************]  2 of 5 completed\n",
      "\n",
      "4 Failed downloads:\n",
      "['TSLA']: Timeout('Failed to perform, curl: (28) Operation timed out after 10002 milliseconds with 16895 bytes received. See https://curl.se/libcurl/c/libcurl-errors.html first for more details.')\n",
      "['AAPL']: Timeout('Failed to perform, curl: (28) Operation timed out after 10009 milliseconds with 18195 bytes received. See https://curl.se/libcurl/c/libcurl-errors.html first for more details.')\n",
      "['MSFT']: Timeout('Failed to perform, curl: (28) Operation timed out after 10006 milliseconds with 7130 bytes received. See https://curl.se/libcurl/c/libcurl-errors.html first for more details.')\n",
      "['GOOGL']: Timeout('Failed to perform, curl: (28) Operation timed out after 10013 milliseconds with 25995 bytes received. See https://curl.se/libcurl/c/libcurl-errors.html first for more details.')\n",
      "C:\\Users\\jihad\\AppData\\Local\\Temp\\ipykernel_13180\\1265761654.py:22: FutureWarning: The default fill_method='pad' in DataFrame.pct_change is deprecated and will be removed in a future version. Either fill in any non-leading NA values prior to calling pct_change or specify 'fill_method=None' to not fill NA values.\n",
      "  daily_returns = data.pct_change().dropna()\n",
      "c:\\Users\\jihad\\anaconda3\\Lib\\site-packages\\numpy\\lib\\function_base.py:520: RuntimeWarning: Mean of empty slice.\n",
      "  avg = a.mean(axis, **keepdims_kw)\n",
      "c:\\Users\\jihad\\anaconda3\\Lib\\site-packages\\numpy\\core\\_methods.py:121: RuntimeWarning: invalid value encountered in divide\n",
      "  ret = um.true_divide(\n",
      "c:\\Users\\jihad\\anaconda3\\Lib\\site-packages\\pandas\\core\\frame.py:11218: RuntimeWarning: Degrees of freedom <= 0 for slice\n",
      "  base_cov = np.cov(mat.T, ddof=ddof)\n",
      "c:\\Users\\jihad\\anaconda3\\Lib\\site-packages\\numpy\\lib\\function_base.py:2748: RuntimeWarning: divide by zero encountered in divide\n",
      "  c *= np.true_divide(1, fact)\n",
      "c:\\Users\\jihad\\anaconda3\\Lib\\site-packages\\numpy\\lib\\function_base.py:2748: RuntimeWarning: invalid value encountered in multiply\n",
      "  c *= np.true_divide(1, fact)\n"
     ]
    },
    {
     "name": "stdout",
     "output_type": "stream",
     "text": [
      "প্রথম ৩ দিনের ডেটা:\n",
      "Ticker      AAPL       AMZN  GOOGL  MSFT  TSLA\n",
      "Date                                          \n",
      "2020-01-02   NaN  94.900497    NaN   NaN   NaN\n",
      "2020-01-03   NaN  93.748497    NaN   NaN   NaN\n",
      "2020-01-06   NaN  95.143997    NaN   NaN   NaN\n",
      "\n",
      "শেষ ৩ দিনের ডেটা:\n",
      "Ticker      AAPL        AMZN  GOOGL  MSFT  TSLA\n",
      "Date                                           \n",
      "2023-12-27   NaN  153.339996    NaN   NaN   NaN\n",
      "2023-12-28   NaN  153.380005    NaN   NaN   NaN\n",
      "2023-12-29   NaN  151.940002    NaN   NaN   NaN\n",
      "\n",
      "রিটার্নের উদাহরণ (প্রথম ৩ দিন):\n",
      "Empty DataFrame\n",
      "Columns: [AAPL, AMZN, GOOGL, MSFT, TSLA]\n",
      "Index: []\n",
      "\n",
      "বার্ষিক গড় রিটার্ন:\n",
      "Ticker\n",
      "AAPL    NaN\n",
      "AMZN    NaN\n",
      "GOOGL   NaN\n",
      "MSFT    NaN\n",
      "TSLA    NaN\n",
      "dtype: float64\n",
      "\n",
      "টার্গেট রিটার্ন: nan\n",
      "\n",
      "ইটারেশন 1:\n",
      "ওয়েট: [nan nan nan nan nan]\n",
      "রিটার্ন: nan, ঝুঁকি: nan\n",
      "\n",
      "ইটারেশন 2:\n",
      "ওয়েট: [nan nan nan nan nan]\n",
      "রিটার্ন: nan, ঝুঁকি: nan\n",
      "\n",
      "ইটারেশন 3:\n",
      "ওয়েট: [nan nan nan nan nan]\n",
      "রিটার্ন: nan, ঝুঁকি: nan\n",
      "\n",
      "ইটারেশন 4:\n",
      "ওয়েট: [nan nan nan nan nan]\n",
      "রিটার্ন: nan, ঝুঁকি: nan\n",
      "\n",
      "ইটারেশন 5:\n",
      "ওয়েট: [nan nan nan nan nan]\n",
      "রিটার্ন: nan, ঝুঁকি: nan\n",
      "\n",
      "অন্তিম ওয়েট:\n",
      "    স্টক  ওয়েট\n",
      "0   AAPL   NaN\n",
      "1  GOOGL   NaN\n",
      "2   MSFT   NaN\n",
      "3   AMZN   NaN\n",
      "4   TSLA   NaN\n"
     ]
    },
    {
     "name": "stderr",
     "output_type": "stream",
     "text": [
      "c:\\Users\\jihad\\anaconda3\\Lib\\site-packages\\IPython\\core\\pylabtools.py:170: UserWarning: Glyph 2476 (\\N{BENGALI LETTER BA}) missing from font(s) DejaVu Sans.\n",
      "  fig.canvas.print_figure(bytes_io, **kw)\n",
      "c:\\Users\\jihad\\anaconda3\\Lib\\site-packages\\IPython\\core\\pylabtools.py:170: UserWarning: Matplotlib currently does not support Bengali natively.\n",
      "  fig.canvas.print_figure(bytes_io, **kw)\n",
      "c:\\Users\\jihad\\anaconda3\\Lib\\site-packages\\IPython\\core\\pylabtools.py:170: UserWarning: Glyph 2495 (\\N{BENGALI VOWEL SIGN I}) missing from font(s) DejaVu Sans.\n",
      "  fig.canvas.print_figure(bytes_io, **kw)\n",
      "c:\\Users\\jihad\\anaconda3\\Lib\\site-packages\\IPython\\core\\pylabtools.py:170: UserWarning: Glyph 2472 (\\N{BENGALI LETTER NA}) missing from font(s) DejaVu Sans.\n",
      "  fig.canvas.print_figure(bytes_io, **kw)\n",
      "c:\\Users\\jihad\\anaconda3\\Lib\\site-packages\\IPython\\core\\pylabtools.py:170: UserWarning: Glyph 2527 (\\N{BENGALI LETTER YYA}) missing from font(s) DejaVu Sans.\n",
      "  fig.canvas.print_figure(bytes_io, **kw)\n",
      "c:\\Users\\jihad\\anaconda3\\Lib\\site-packages\\IPython\\core\\pylabtools.py:170: UserWarning: Glyph 2507 (\\N{BENGALI VOWEL SIGN O}) missing from font(s) DejaVu Sans.\n",
      "  fig.canvas.print_figure(bytes_io, **kw)\n",
      "c:\\Users\\jihad\\anaconda3\\Lib\\site-packages\\IPython\\core\\pylabtools.py:170: UserWarning: Glyph 2455 (\\N{BENGALI LETTER GA}) missing from font(s) DejaVu Sans.\n",
      "  fig.canvas.print_figure(bytes_io, **kw)\n",
      "c:\\Users\\jihad\\anaconda3\\Lib\\site-packages\\IPython\\core\\pylabtools.py:170: UserWarning: Glyph 2474 (\\N{BENGALI LETTER PA}) missing from font(s) DejaVu Sans.\n",
      "  fig.canvas.print_figure(bytes_io, **kw)\n",
      "c:\\Users\\jihad\\anaconda3\\Lib\\site-packages\\IPython\\core\\pylabtools.py:170: UserWarning: Glyph 2480 (\\N{BENGALI LETTER RA}) missing from font(s) DejaVu Sans.\n",
      "  fig.canvas.print_figure(bytes_io, **kw)\n",
      "c:\\Users\\jihad\\anaconda3\\Lib\\site-packages\\IPython\\core\\pylabtools.py:170: UserWarning: Glyph 2509 (\\N{BENGALI SIGN VIRAMA}) missing from font(s) DejaVu Sans.\n",
      "  fig.canvas.print_figure(bytes_io, **kw)\n",
      "c:\\Users\\jihad\\anaconda3\\Lib\\site-packages\\IPython\\core\\pylabtools.py:170: UserWarning: Glyph 2463 (\\N{BENGALI LETTER TTA}) missing from font(s) DejaVu Sans.\n",
      "  fig.canvas.print_figure(bytes_io, **kw)\n",
      "c:\\Users\\jihad\\anaconda3\\Lib\\site-packages\\IPython\\core\\pylabtools.py:170: UserWarning: Glyph 2475 (\\N{BENGALI LETTER PHA}) missing from font(s) DejaVu Sans.\n",
      "  fig.canvas.print_figure(bytes_io, **kw)\n",
      "c:\\Users\\jihad\\anaconda3\\Lib\\site-packages\\IPython\\core\\pylabtools.py:170: UserWarning: Glyph 2482 (\\N{BENGALI LETTER LA}) missing from font(s) DejaVu Sans.\n",
      "  fig.canvas.print_figure(bytes_io, **kw)\n",
      "c:\\Users\\jihad\\anaconda3\\Lib\\site-packages\\IPython\\core\\pylabtools.py:170: UserWarning: Glyph 2451 (\\N{BENGALI LETTER O}) missing from font(s) DejaVu Sans.\n",
      "  fig.canvas.print_figure(bytes_io, **kw)\n",
      "c:\\Users\\jihad\\anaconda3\\Lib\\site-packages\\IPython\\core\\pylabtools.py:170: UserWarning: Glyph 2467 (\\N{BENGALI LETTER NNA}) missing from font(s) DejaVu Sans.\n",
      "  fig.canvas.print_figure(bytes_io, **kw)\n",
      "c:\\Users\\jihad\\anaconda3\\Lib\\site-packages\\IPython\\core\\pylabtools.py:170: UserWarning: Glyph 2488 (\\N{BENGALI LETTER SA}) missing from font(s) DejaVu Sans.\n",
      "  fig.canvas.print_figure(bytes_io, **kw)\n",
      "c:\\Users\\jihad\\anaconda3\\Lib\\site-packages\\IPython\\core\\pylabtools.py:170: UserWarning: Glyph 2453 (\\N{BENGALI LETTER KA}) missing from font(s) DejaVu Sans.\n",
      "  fig.canvas.print_figure(bytes_io, **kw)\n"
     ]
    },
    {
     "data": {
      "image/png": "[encoded data removed]",
      "text/plain": [
       "<Figure size 1000x600 with 1 Axes>"
      ]
     },
     "metadata": {},
     "output_type": "display_data"
    },
    {
     "name": "stderr",
     "output_type": "stream",
     "text": [
      "C:\\Users\\jihad\\AppData\\Local\\Temp\\ipykernel_13180\\1265761654.py:118: FutureWarning: Series.__getitem__ treating keys as positions is deprecated. In a future version, integer keys will always be treated as labels (consistent with DataFrame behavior). To access a value by position, use `ser.iloc[pos]`\n",
      "  plt.text(individual_risks[i]+0.01, annual_returns[i], stock, fontsize=9)\n",
      "c:\\Users\\jihad\\anaconda3\\Lib\\site-packages\\IPython\\core\\pylabtools.py:170: UserWarning: Glyph 2494 (\\N{BENGALI VOWEL SIGN AA}) missing from font(s) DejaVu Sans.\n",
      "  fig.canvas.print_figure(bytes_io, **kw)\n",
      "c:\\Users\\jihad\\anaconda3\\Lib\\site-packages\\IPython\\core\\pylabtools.py:170: UserWarning: Glyph 2461 (\\N{BENGALI LETTER JHA}) missing from font(s) DejaVu Sans.\n",
      "  fig.canvas.print_figure(bytes_io, **kw)\n",
      "c:\\Users\\jihad\\anaconda3\\Lib\\site-packages\\IPython\\core\\pylabtools.py:170: UserWarning: Glyph 2497 (\\N{BENGALI VOWEL SIGN U}) missing from font(s) DejaVu Sans.\n",
      "  fig.canvas.print_figure(bytes_io, **kw)\n",
      "c:\\Users\\jihad\\anaconda3\\Lib\\site-packages\\IPython\\core\\pylabtools.py:170: UserWarning: Glyph 2433 (\\N{BENGALI SIGN CANDRABINDU}) missing from font(s) DejaVu Sans.\n",
      "  fig.canvas.print_figure(bytes_io, **kw)\n",
      "c:\\Users\\jihad\\anaconda3\\Lib\\site-packages\\IPython\\core\\pylabtools.py:170: UserWarning: Glyph 2479 (\\N{BENGALI LETTER YA}) missing from font(s) DejaVu Sans.\n",
      "  fig.canvas.print_figure(bytes_io, **kw)\n",
      "c:\\Users\\jihad\\anaconda3\\Lib\\site-packages\\IPython\\core\\pylabtools.py:170: UserWarning: Glyph 2465 (\\N{BENGALI LETTER DDA}) missing from font(s) DejaVu Sans.\n",
      "  fig.canvas.print_figure(bytes_io, **kw)\n",
      "c:\\Users\\jihad\\anaconda3\\Lib\\site-packages\\IPython\\core\\pylabtools.py:170: UserWarning: Glyph 2503 (\\N{BENGALI VOWEL SIGN E}) missing from font(s) DejaVu Sans.\n",
      "  fig.canvas.print_figure(bytes_io, **kw)\n",
      "c:\\Users\\jihad\\anaconda3\\Lib\\site-packages\\IPython\\core\\pylabtools.py:170: UserWarning: Glyph 2477 (\\N{BENGALI LETTER BHA}) missing from font(s) DejaVu Sans.\n",
      "  fig.canvas.print_figure(bytes_io, **kw)\n",
      "c:\\Users\\jihad\\anaconda3\\Lib\\site-packages\\IPython\\core\\pylabtools.py:170: UserWarning: Glyph 2486 (\\N{BENGALI LETTER SHA}) missing from font(s) DejaVu Sans.\n",
      "  fig.canvas.print_figure(bytes_io, **kw)\n",
      "c:\\Users\\jihad\\anaconda3\\Lib\\site-packages\\IPython\\core\\pylabtools.py:170: UserWarning: Glyph 2438 (\\N{BENGALI LETTER AA}) missing from font(s) DejaVu Sans.\n",
      "  fig.canvas.print_figure(bytes_io, **kw)\n"
     ]
    },
    {
     "data": {
      "image/png": "[encoded data removed]",
      "text/plain": [
       "<Figure size 1000x600 with 1 Axes>"
      ]
     },
     "metadata": {},
     "output_type": "display_data"
    }
   ],
   "source": [
    "import yfinance as yf\n",
    "import pandas as pd\n",
    "import numpy as np\n",
    "import matplotlib.pyplot as plt\n",
    "\n",
    "# ১. ডেটা ডাউনলোড করা (সবচেয়ে সহজ পদ্ধতি)\n",
    "stocks = ['AAPL', 'GOOGL', 'MSFT', 'AMZN', 'TSLA']  # ৫টি বড় কোম্পানি\n",
    "start_date = \"2020-01-01\"\n",
    "end_date = \"2023-12-31\"  # নির্দিষ্ট তারিখে শেষ\n",
    "\n",
    "# ডেটা ডাউনলোড\n",
    "data = yf.download(stocks, start=start_date, end=end_date)['Close']\n",
    "\n",
    "# ডেটা প্রিন্ট করে দেখা\n",
    "print(\"প্রথম ৩ দিনের ডেটা:\")\n",
    "print(data.head(3))\n",
    "\n",
    "print(\"\\nশেষ ৩ দিনের ডেটা:\")\n",
    "print(data.tail(3))\n",
    "\n",
    "# ২. রিটার্ন বের করা (অতি সহজ পদ্ধতি)\n",
    "daily_returns = data.pct_change().dropna()\n",
    "\n",
    "print(\"\\nরিটার্নের উদাহরণ (প্রথম ৩ দিন):\")\n",
    "print(daily_returns.head(3))\n",
    "\n",
    "# ৩. গড় রিটার্ন ও ঝুঁকির হিসাব (সহজ সূত্র)\n",
    "annual_returns = daily_returns.mean() * 252  # ১ বছরে ২৫২ ট্রেডিং দিন\n",
    "cov_matrix = daily_returns.cov() * 252  # কোভেরিয়েন্স ম্যাট্রিক্স\n",
    "\n",
    "print(\"\\nবার্ষিক গড় রিটার্ন:\")\n",
    "print(annual_returns)\n",
    "\n",
    "# ৪. নিউটন-র্যাফসন পদ্ধতি (সরলীকৃত)\n",
    "def simple_newton_raphson(target_return):\n",
    "    n = len(stocks)\n",
    "    \n",
    "    # প্রাথমিক ধাপ: সব স্টকে সমান বিনিয়োগ\n",
    "    weights = np.array([0.2, 0.2, 0.2, 0.2, 0.2])\n",
    "    \n",
    "    # ৫ বার ইটারেশন করলেই যথেষ্ট\n",
    "    for i in range(5):\n",
    "        # বর্তমান রিটার্ন ও ঝুঁকি\n",
    "        current_return = np.dot(weights, annual_returns)\n",
    "        risk = np.sqrt(np.dot(weights.T, np.dot(cov_matrix, weights)))\n",
    "        \n",
    "        # গ্রেডিয়েন্ট (ঝুঁকির পরিবর্তনের হার)\n",
    "        gradient = 2 * np.dot(cov_matrix, weights)\n",
    "        \n",
    "        # হেসিয়ান (ঝুঁকির দ্বিতীয় ডেরিভেটিভ)\n",
    "        hessian = 2 * cov_matrix\n",
    "        \n",
    "        # নতুন ওয়েট (সরলীকৃত আপডেট)\n",
    "        weights = weights - np.linalg.inv(hessian) @ gradient / 100\n",
    "        \n",
    "        # ওয়েট নরমালাইজেশন (মোট ১০০%)\n",
    "        weights = weights / np.sum(weights)\n",
    "        \n",
    "        print(f\"\\nইটারেশন {i+1}:\")\n",
    "        print(f\"ওয়েট: {weights}\")\n",
    "        print(f\"রিটার্ন: {current_return:.4f}, ঝুঁকি: {risk:.4f}\")\n",
    "    \n",
    "    return weights\n",
    "\n",
    "# টার্গেট রিটার্ন (সব স্টকের গড়)\n",
    "target_return = np.mean(annual_returns)\n",
    "print(f\"\\nটার্গেট রিটার্ন: {target_return:.4f}\")\n",
    "\n",
    "# অপ্টিমাল ওয়েট বের করা\n",
    "optimal_weights = simple_newton_raphson(target_return)\n",
    "\n",
    "# ৫. ফলাফল দেখানো (সহজ গ্রাফ)\n",
    "# স্টক ও ওয়েট ডেটাফ্রেম\n",
    "results = pd.DataFrame({\n",
    "    'স্টক': stocks,\n",
    "    'ওয়েট': optimal_weights\n",
    "})\n",
    "\n",
    "print(\"\\nঅন্তিম ওয়েট:\")\n",
    "print(results)\n",
    "\n",
    "# ৬. ভিজ্যুয়ালাইজেশন (সহজ বার চার্ট)\n",
    "plt.figure(figsize=(10, 6))\n",
    "colors = ['green' if w >= 0 else 'red' for w in optimal_weights]\n",
    "plt.bar(results['স্টক'], results['ওয়েট']*100, color=colors)\n",
    "plt.axhline(0, color='black', linewidth=0.8)\n",
    "plt.title(\"পোর্টফোলিও বিনিয়োগ বণ্টন\")\n",
    "plt.xlabel(\"স্টক\")\n",
    "plt.ylabel(\"বিনিয়োগ (%)\")\n",
    "plt.grid(axis='y', linestyle='--', alpha=0.3)\n",
    "\n",
    "# মানগুলো লেখা\n",
    "for i, weight in enumerate(optimal_weights):\n",
    "    plt.text(i, weight*100 + (1 if weight >=0 else -2), \n",
    "             f'{weight*100:.1f}%', \n",
    "             ha='center', va='bottom' if weight >=0 else 'top')\n",
    "\n",
    "plt.show()\n",
    "\n",
    "# ৭. ঝুঁকি-রিটার্ন গ্রাফ (সহজ)\n",
    "individual_risks = np.sqrt(np.diag(cov_matrix))\n",
    "\n",
    "plt.figure(figsize=(10, 6))\n",
    "plt.scatter(individual_risks, annual_returns, s=100, color='blue')\n",
    "\n",
    "# পোর্টফোলিও পয়েন্ট\n",
    "portfolio_return = np.dot(optimal_weights, annual_returns)\n",
    "portfolio_risk = np.sqrt(np.dot(optimal_weights.T, np.dot(cov_matrix, optimal_weights)))\n",
    "plt.scatter(portfolio_risk, portfolio_return, s=200, color='red', marker='*')\n",
    "\n",
    "plt.title(\"ঝুঁকি vs রিটার্ন\")\n",
    "plt.xlabel(\"ঝুঁকি (স্ট্যান্ডার্ড ডেভিয়েশন)\")\n",
    "plt.ylabel(\"রিটার্ন\")\n",
    "plt.grid(True)\n",
    "\n",
    "# লেবেল যোগ করা\n",
    "for i, stock in enumerate(stocks):\n",
    "    plt.text(individual_risks[i]+0.01, annual_returns[i], stock, fontsize=9)\n",
    "\n",
    "plt.text(portfolio_risk+0.01, portfolio_return, 'আপনার পোর্টফোলিও', fontsize=10)\n",
    "\n",
    "plt.show()"
   ]
  }
 ],
 "metadata": {
  "kernelspec": {
   "display_name": "base",
   "language": "python",
   "name": "python3"
  },
  "language_info": {
   "codemirror_mode": {
    "name": "ipython",
    "version": 3
   },
   "file_extension": ".py",
   "mimetype": "text/x-python",
   "name": "python",
   "nbconvert_exporter": "python",
   "pygments_lexer": "ipython3",
   "version": "3.12.7"
  }
 },
 "nbformat": 4,
 "nbformat_minor": 5
}
