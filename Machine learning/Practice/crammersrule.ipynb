{
 "cells": [
  {
   "cell_type": "code",
   "execution_count": 1,
   "id": "804e7a62",
   "metadata": {},
   "outputs": [
    {
     "name": "stdout",
     "output_type": "stream",
     "text": [
      "The solution is: x = 1.4285714285714273, y = 0.653061224489796, z = -0.183673469387755\n"
     ]
    }
   ],
   "source": [
    "import numpy as np\n",
    "\n",
    "# Define the coefficient matrix A\n",
    "A = np.array([\n",
    "    [2, 3, -1],\n",
    "    [4, 1, 2],\n",
    "    [3, 5, 3]\n",
    "])\n",
    "\n",
    "# Define the constant matrix B\n",
    "B = np.array([5, 6, 7])\n",
    "\n",
    "# Calculate the determinant of A\n",
    "det_A = np.linalg.det(A)\n",
    "\n",
    "# If det_A is 0, the system has no unique solution\n",
    "if det_A == 0:\n",
    "    print(\"The system has no unique solution.\")\n",
    "else:\n",
    "    # Replace columns of A with B to form A_x, A_y, A_z\n",
    "    A_x = A.copy()\n",
    "    A_y = A.copy()\n",
    "    A_z = A.copy()\n",
    "\n",
    "    A_x[:, 0] = B\n",
    "    A_y[:, 1] = B\n",
    "    A_z[:, 2] = B\n",
    "\n",
    "    # Calculate the determinants of A_x, A_y, A_z\n",
    "    det_A_x = np.linalg.det(A_x)\n",
    "    det_A_y = np.linalg.det(A_y)\n",
    "    det_A_z = np.linalg.det(A_z)\n",
    "\n",
    "    # Calculate the solutions using Cramer's Rule\n",
    "    x = det_A_x / det_A\n",
    "    y = det_A_y / det_A\n",
    "    z = det_A_z / det_A\n",
    "\n",
    "    # Print the results\n",
    "    print(f\"The solution is: x = {x}, y = {y}, z = {z}\")\n"
   ]
  }
 ],
 "metadata": {
  "kernelspec": {
   "display_name": "base",
   "language": "python",
   "name": "python3"
  },
  "language_info": {
   "codemirror_mode": {
    "name": "ipython",
    "version": 3
   },
   "file_extension": ".py",
   "mimetype": "text/x-python",
   "name": "python",
   "nbconvert_exporter": "python",
   "pygments_lexer": "ipython3",
   "version": "3.12.7"
  }
 },
 "nbformat": 4,
 "nbformat_minor": 5
}
