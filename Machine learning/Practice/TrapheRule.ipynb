{
 "cells": [
  {
   "cell_type": "code",
   "execution_count": 1,
   "id": "54041b2d",
   "metadata": {},
   "outputs": [
    {
     "name": "stdout",
     "output_type": "stream",
     "text": [
      "Estimated integral using the Trapezoidal Rule: 41.66875000000001\n"
     ]
    }
   ],
   "source": [
    "import numpy as np\n",
    "\n",
    "def trapezoidal_rule(f, a, b, n):\n",
    "    \"\"\"\n",
    "    Estimate the integral of f(x) from a to b using the Trapezoidal Rule.\n",
    "    \n",
    "    Parameters:\n",
    "    f : function - The function to be integrated.\n",
    "    a : float - The start of the interval.\n",
    "    b : float - The end of the interval.\n",
    "    n : int - The number of subintervals.\n",
    "    \n",
    "    Returns:\n",
    "    float : The estimated value of the integral.\n",
    "    \"\"\"\n",
    "    # Calculate the width of each subinterval\n",
    "    h = (b - a) / n\n",
    "    \n",
    "    # Calculate the sum of the function values at the endpoints\n",
    "    integral = (f(a) + f(b)) / 2\n",
    "    \n",
    "    # Add the function values at the interior points\n",
    "    for i in range(1, n):\n",
    "        x_i = a + i * h\n",
    "        integral += f(x_i)\n",
    "    \n",
    "    # Multiply by the width of the subintervals\n",
    "    integral *= h\n",
    "    \n",
    "    return integral\n",
    "\n",
    "# Example function: f(x) = x^2\n",
    "def f(x):\n",
    "    return x**2\n",
    "\n",
    "# Define the interval [a, b] and number of subintervals n\n",
    "a = 0\n",
    "b = 5\n",
    "n = 100  # You can change the number of subintervals to get more accuracy\n",
    "\n",
    "# Calculate the integral using the Trapezoidal Rule\n",
    "result = trapezoidal_rule(f, a, b, n)\n",
    "\n",
    "print(f\"Estimated integral using the Trapezoidal Rule: {result}\")\n"
   ]
  }
 ],
 "metadata": {
  "kernelspec": {
   "display_name": "base",
   "language": "python",
   "name": "python3"
  },
  "language_info": {
   "codemirror_mode": {
    "name": "ipython",
    "version": 3
   },
   "file_extension": ".py",
   "mimetype": "text/x-python",
   "name": "python",
   "nbconvert_exporter": "python",
   "pygments_lexer": "ipython3",
   "version": "3.12.7"
  }
 },
 "nbformat": 4,
 "nbformat_minor": 5
}
