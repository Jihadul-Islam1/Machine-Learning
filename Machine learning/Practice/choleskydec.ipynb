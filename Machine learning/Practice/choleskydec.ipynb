{
 "cells": [
  {
   "cell_type": "code",
   "execution_count": 1,
   "id": "2b19be8d",
   "metadata": {},
   "outputs": [
    {
     "name": "stdout",
     "output_type": "stream",
     "text": [
      "Lower triangular matrix L:\n",
      "[[ 2  0  0]\n",
      " [ 6  1  0]\n",
      " [-8  5  3]]\n",
      "\n",
      "Check: L * L^T\n",
      "[[  4  12 -16]\n",
      " [ 12  37 -43]\n",
      " [-16 -43  98]]\n"
     ]
    }
   ],
   "source": [
    "import numpy as np\n",
    "\n",
    "def cholesky_decomposition(A):\n",
    "    \"\"\"\n",
    "    Perform Cholesky Decomposition on a symmetric, positive-definite matrix A.\n",
    "    The result is a lower triangular matrix L such that A = L * L^T.\n",
    "\n",
    "    Parameters:\n",
    "    A : ndarray\n",
    "        A symmetric, positive-definite matrix.\n",
    "\n",
    "    Returns:\n",
    "    L : ndarray\n",
    "        The lower triangular matrix such that A = L * L^T.\n",
    "    \"\"\"\n",
    "    n = A.shape[0]\n",
    "    L = np.zeros_like(A)\n",
    "\n",
    "    for i in range(n):\n",
    "        for j in range(i + 1):\n",
    "            if i == j:\n",
    "                # Calculate diagonal elements\n",
    "                L[i, j] = np.sqrt(A[i, i] - np.sum(L[i, :j] ** 2))\n",
    "            else:\n",
    "                # Calculate off-diagonal elements\n",
    "                L[i, j] = (A[i, j] - np.sum(L[i, :j] * L[j, :j])) / L[j, j]\n",
    "                \n",
    "    return L\n",
    "\n",
    "# Example usage:\n",
    "A = np.array([[4, 12, -16],\n",
    "              [12, 37, -43],\n",
    "              [-16, -43, 98]])\n",
    "\n",
    "L = cholesky_decomposition(A)\n",
    "print(\"Lower triangular matrix L:\")\n",
    "print(L)\n",
    "\n",
    "# Verify the decomposition: A should be approximately equal to L * L^T\n",
    "print(\"\\nCheck: L * L^T\")\n",
    "print(np.dot(L, L.T))\n"
   ]
  }
 ],
 "metadata": {
  "kernelspec": {
   "display_name": "base",
   "language": "python",
   "name": "python3"
  },
  "language_info": {
   "codemirror_mode": {
    "name": "ipython",
    "version": 3
   },
   "file_extension": ".py",
   "mimetype": "text/x-python",
   "name": "python",
   "nbconvert_exporter": "python",
   "pygments_lexer": "ipython3",
   "version": "3.12.7"
  }
 },
 "nbformat": 4,
 "nbformat_minor": 5
}
