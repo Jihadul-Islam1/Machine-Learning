{
 "cells": [
  {
   "cell_type": "code",
   "execution_count": 1,
   "id": "b173b868",
   "metadata": {},
   "outputs": [
    {
     "name": "stdout",
     "output_type": "stream",
     "text": [
      "Estimated integral using Simpson's 1/3 Rule: 41.66666666666667\n"
     ]
    }
   ],
   "source": [
    "import numpy as np\n",
    "\n",
    "def simpsons_13_rule(f, a, b, n):\n",
    "    \"\"\"\n",
    "    Estimate the integral of f(x) from a to b using Simpson's 1/3 Rule.\n",
    "    \n",
    "    Parameters:\n",
    "    f : function - The function to be integrated.\n",
    "    a : float - The start of the interval.\n",
    "    b : float - The end of the interval.\n",
    "    n : int - The number of subintervals (must be even).\n",
    "    \n",
    "    Returns:\n",
    "    float : The estimated value of the integral.\n",
    "    \"\"\"\n",
    "    # Check if n is even\n",
    "    if n % 2 == 1:\n",
    "        raise ValueError(\"n must be even.\")\n",
    "    \n",
    "    # Calculate the width of each subinterval\n",
    "    h = (b - a) / n\n",
    "    \n",
    "    # Apply the Simpson's 1/3 Rule formula\n",
    "    integral = f(a) + f(b)\n",
    "    \n",
    "    # Apply the sum of f(x_i) for odd and even indices\n",
    "    for i in range(1, n, 2):\n",
    "        integral += 4 * f(a + i * h)\n",
    "    for i in range(2, n, 2):\n",
    "        integral += 2 * f(a + i * h)\n",
    "    \n",
    "    # Multiply by h/3 to get the final result\n",
    "    integral *= h / 3\n",
    "    \n",
    "    return integral\n",
    "\n",
    "# Example function: f(x) = x^2\n",
    "def f(x):\n",
    "    return x**2\n",
    "\n",
    "# Define the interval [a, b] and number of subintervals n\n",
    "a = 0\n",
    "b = 5\n",
    "n = 6  # Make sure n is even\n",
    "\n",
    "# Calculate the integral using Simpson's 1/3 Rule\n",
    "result = simpsons_13_rule(f, a, b, n)\n",
    "\n",
    "print(f\"Estimated integral using Simpson's 1/3 Rule: {result}\")\n"
   ]
  }
 ],
 "metadata": {
  "kernelspec": {
   "display_name": "base",
   "language": "python",
   "name": "python3"
  },
  "language_info": {
   "codemirror_mode": {
    "name": "ipython",
    "version": 3
   },
   "file_extension": ".py",
   "mimetype": "text/x-python",
   "name": "python",
   "nbconvert_exporter": "python",
   "pygments_lexer": "ipython3",
   "version": "3.12.7"
  }
 },
 "nbformat": 4,
 "nbformat_minor": 5
}
